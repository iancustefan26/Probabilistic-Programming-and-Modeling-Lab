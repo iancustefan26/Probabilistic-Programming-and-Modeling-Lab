{
 "cells": [
  {
   "cell_type": "code",
   "execution_count": 30,
   "id": "c70c5f20",
   "metadata": {},
   "outputs": [],
   "source": [
    "from pgmpy.models import DiscreteBayesianNetwork\n",
    "from pgmpy.factors.discrete import TabularCPD\n",
    "from pgmpy.inference import VariableElimination\n",
    "import matplotlib.pyplot as plt\n",
    "import networkx as nx"
   ]
  },
  {
   "cell_type": "code",
   "execution_count": 31,
   "id": "aef22c9e",
   "metadata": {},
   "outputs": [
    {
     "data": {
      "text/plain": [
       "True"
      ]
     },
     "execution_count": 31,
     "metadata": {},
     "output_type": "execute_result"
    }
   ],
   "source": [
    "model = DiscreteBayesianNetwork([\n",
    "    ('Spam', 'Offer'),\n",
    "    ('Spam', 'Link'),\n",
    "    ('Link', 'Long Mail'),\n",
    "    ('Spam', 'Long Mail')\n",
    "    ])\n",
    "\n",
    "cpd_spam = TabularCPD(\n",
    "    variable='Spam',\n",
    "    variable_card=2,\n",
    "    values=[[0.4], [0.6]]\n",
    "    )\n",
    "\n",
    "cpd_offer = TabularCPD(\n",
    "    variable='Offer',\n",
    "    variable_card=2,\n",
    "    values=[\n",
    "            [0.9, 0.3],\n",
    "            [0.1, 0.7] \n",
    "        ],\n",
    "    evidence=['Spam'],\n",
    "    evidence_card=[2]\n",
    "    )\n",
    "\n",
    "cpd_link = TabularCPD(\n",
    "    variable='Link',\n",
    "    variable_card=2,\n",
    "    values=[\n",
    "            [0.7, 0.2],\n",
    "            [0.3, 0.8]\n",
    "        ],\n",
    "    evidence=['Spam'],\n",
    "    evidence_card=[2]\n",
    "    )\n",
    "\n",
    "cpd_long_mail = TabularCPD(\n",
    "    variable='Long Mail',\n",
    "    variable_card=2,\n",
    "    values=[\n",
    "        [0.8, 0.4, 0.5, 0.1],\n",
    "        [0.2, 0.6, 0.5, 0.9]\n",
    "    ],\n",
    "    evidence=['Spam', 'Link'],\n",
    "    evidence_card=[2, 2]\n",
    "    )\n",
    "\n",
    "\n",
    "model.add_cpds(cpd_spam, cpd_offer, cpd_link, cpd_long_mail)\n",
    "\n",
    "model.check_model()"
   ]
  },
  {
   "cell_type": "code",
   "execution_count": 32,
   "id": "d46ad921",
   "metadata": {},
   "outputs": [
    {
     "data": {
      "image/png": "[encoded data removed]",
      "text/plain": [
       "<Figure size 640x480 with 1 Axes>"
      ]
     },
     "metadata": {},
     "output_type": "display_data"
    }
   ],
   "source": [
    "pos = nx.circular_layout(model)\n",
    "nx.draw(model, pos=pos, with_labels=True, node_size=4000, font_weight='bold', node_color='skyblue')\n",
    "plt.show()"
   ]
  },
  {
   "cell_type": "code",
   "execution_count": 33,
   "id": "7962df06",
   "metadata": {},
   "outputs": [
    {
     "data": {
      "text/plain": [
       "(Offer ⟂ Long Mail, Link | Spam)\n",
       "(Link ⟂ Offer | Spam)\n",
       "(Long Mail ⟂ Offer | Spam, Link)"
      ]
     },
     "execution_count": 33,
     "metadata": {},
     "output_type": "execute_result"
    }
   ],
   "source": [
    "model.local_independencies(['Spam', 'Offer', 'Link', 'Long Mail'])"
   ]
  },
  {
   "cell_type": "code",
   "execution_count": 34,
   "id": "2502ef2a",
   "metadata": {},
   "outputs": [
    {
     "name": "stdout",
     "output_type": "stream",
     "text": [
      "Offer=0, Link=0, Long Mail=0 => +---------+-------------+\n",
      "| Spam    |   phi(Spam) |\n",
      "+=========+=============+\n",
      "| Spam(0) |      0.9180 |\n",
      "+---------+-------------+\n",
      "| Spam(1) |      0.0820 |\n",
      "+---------+-------------+\n",
      "Offer=0, Link=0, Long Mail=1 => +---------+-------------+\n",
      "| Spam    |   phi(Spam) |\n",
      "+=========+=============+\n",
      "| Spam(0) |      0.7368 |\n",
      "+---------+-------------+\n",
      "| Spam(1) |      0.2632 |\n",
      "+---------+-------------+\n",
      "Offer=0, Link=1, Long Mail=0 => +---------+-------------+\n",
      "| Spam    |   phi(Spam) |\n",
      "+=========+=============+\n",
      "| Spam(0) |      0.7500 |\n",
      "+---------+-------------+\n",
      "| Spam(1) |      0.2500 |\n",
      "+---------+-------------+\n",
      "Offer=0, Link=1, Long Mail=1 => +---------+-------------+\n",
      "| Spam    |   phi(Spam) |\n",
      "+=========+=============+\n",
      "| Spam(0) |      0.3333 |\n",
      "+---------+-------------+\n",
      "| Spam(1) |      0.6667 |\n",
      "+---------+-------------+\n",
      "Offer=1, Link=0, Long Mail=0 => +---------+-------------+\n",
      "| Spam    |   phi(Spam) |\n",
      "+=========+=============+\n",
      "| Spam(0) |      0.3478 |\n",
      "+---------+-------------+\n",
      "| Spam(1) |      0.6522 |\n",
      "+---------+-------------+\n",
      "Offer=1, Link=0, Long Mail=1 => +---------+-------------+\n",
      "| Spam    |   phi(Spam) |\n",
      "+=========+=============+\n",
      "| Spam(0) |      0.1176 |\n",
      "+---------+-------------+\n",
      "| Spam(1) |      0.8824 |\n",
      "+---------+-------------+\n",
      "Offer=1, Link=1, Long Mail=0 => +---------+-------------+\n",
      "| Spam    |   phi(Spam) |\n",
      "+=========+=============+\n",
      "| Spam(0) |      0.1250 |\n",
      "+---------+-------------+\n",
      "| Spam(1) |      0.8750 |\n",
      "+---------+-------------+\n",
      "Offer=1, Link=1, Long Mail=1 => +---------+-------------+\n",
      "| Spam    |   phi(Spam) |\n",
      "+=========+=============+\n",
      "| Spam(0) |      0.0233 |\n",
      "+---------+-------------+\n",
      "| Spam(1) |      0.9767 |\n",
      "+---------+-------------+\n",
      "+---------+-------------+\n",
      "| Spam    |   phi(Spam) |\n",
      "+=========+=============+\n",
      "| Spam(0) |      0.0870 |\n",
      "+---------+-------------+\n",
      "| Spam(1) |      0.9130 |\n",
      "+---------+-------------+\n"
     ]
    }
   ],
   "source": [
    "from pgmpy.inference import VariableElimination\n",
    "infer = VariableElimination(model)\n",
    "for x, y, z in [(0, 0, 0), (0, 0, 1), (0, 1, 0), (0, 1, 1), (1, 0, 0), (1, 0, 1), (1, 1, 0), (1, 1, 1)]:\n",
    "    posterior_p = infer.query([\"Spam\"], evidence={\"Offer\": x, \"Link\": y, \"Long Mail\": z})\n",
    "    print(f\"Offer={x}, Link={y}, Long Mail={z} => {posterior_p}\")\n",
    "posterior_p = infer.query([\"Spam\"], evidence={\"Offer\": 1})\n",
    "print(posterior_p)"
   ]
  },
  {
   "cell_type": "code",
   "execution_count": 35,
   "id": "2f5d4f7b",
   "metadata": {},
   "outputs": [
    {
     "name": "stdout",
     "output_type": "stream",
     "text": [
      "+---------+-------------+\n",
      "| Spam    |   phi(Spam) |\n",
      "+=========+=============+\n",
      "| Spam(0) |      0.6667 |\n",
      "+---------+-------------+\n",
      "| Spam(1) |      0.3333 |\n",
      "+---------+-------------+\n"
     ]
    }
   ],
   "source": [
    "posterior_p = infer.query([\"Spam\"], evidence={\"Offer\": 0})\n",
    "print(posterior_p)\n"
   ]
  },
  {
   "cell_type": "code",
   "execution_count": 24,
   "id": "a7ee2dbe",
   "metadata": {},
   "outputs": [
    {
     "name": "stdout",
     "output_type": "stream",
     "text": [
      "+---------+-------------+\n",
      "| Spam    |   phi(Spam) |\n",
      "+=========+=============+\n",
      "| Spam(0) |      0.2000 |\n",
      "+---------+-------------+\n",
      "| Spam(1) |      0.8000 |\n",
      "+---------+-------------+\n"
     ]
    }
   ],
   "source": [
    "posterior_p = infer.query([\"Spam\"], evidence={\"Link\": 1})\n",
    "print(posterior_p)"
   ]
  },
  {
   "cell_type": "code",
   "execution_count": 25,
   "id": "473d70bd",
   "metadata": {},
   "outputs": [
    {
     "name": "stdout",
     "output_type": "stream",
     "text": [
      "+---------+-------------+\n",
      "| Spam    |   phi(Spam) |\n",
      "+=========+=============+\n",
      "| Spam(0) |      0.7000 |\n",
      "+---------+-------------+\n",
      "| Spam(1) |      0.3000 |\n",
      "+---------+-------------+\n"
     ]
    }
   ],
   "source": [
    "posterior_p = infer.query([\"Spam\"], evidence={\"Link\": 0})\n",
    "print(posterior_p)"
   ]
  },
  {
   "cell_type": "code",
   "execution_count": 26,
   "id": "34bda65e",
   "metadata": {},
   "outputs": [
    {
     "name": "stdout",
     "output_type": "stream",
     "text": [
      "+---------+-------------+\n",
      "| Spam    |   phi(Spam) |\n",
      "+=========+=============+\n",
      "| Spam(0) |      0.2065 |\n",
      "+---------+-------------+\n",
      "| Spam(1) |      0.7935 |\n",
      "+---------+-------------+\n"
     ]
    }
   ],
   "source": [
    "posterior_p = infer.query([\"Spam\"], evidence={\"Long Mail\": 1})\n",
    "print(posterior_p)"
   ]
  },
  {
   "cell_type": "code",
   "execution_count": 27,
   "id": "2f87dea9",
   "metadata": {},
   "outputs": [
    {
     "name": "stdout",
     "output_type": "stream",
     "text": [
      "+---------+-------------+\n",
      "| Spam    |   phi(Spam) |\n",
      "+=========+=============+\n",
      "| Spam(0) |      0.7158 |\n",
      "+---------+-------------+\n",
      "| Spam(1) |      0.2842 |\n",
      "+---------+-------------+\n"
     ]
    }
   ],
   "source": [
    "posterior_p = infer.query([\"Spam\"], evidence={\"Long Mail\": 0})\n",
    "print(posterior_p)"
   ]
  }
 ],
 "metadata": {
  "kernelspec": {
   "display_name": "PMP-2025",
   "language": "python",
   "name": "python3"
  },
  "language_info": {
   "codemirror_mode": {
    "name": "ipython",
    "version": 3
   },
   "file_extension": ".py",
   "mimetype": "text/x-python",
   "name": "python",
   "nbconvert_exporter": "python",
   "pygments_lexer": "ipython3",
   "version": "3.13.3"
  }
 },
 "nbformat": 4,
 "nbformat_minor": 5
}
