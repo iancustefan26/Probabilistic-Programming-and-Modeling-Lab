{
 "cells": [
  {
   "cell_type": "code",
   "execution_count": 8,
   "id": "4bde96c7",
   "metadata": {},
   "outputs": [
    {
     "ename": "ModuleNotFoundError",
     "evalue": "No module named 'pgmpy'",
     "output_type": "error",
     "traceback": [
      "\u001b[31m---------------------------------------------------------------------------\u001b[39m",
      "\u001b[31mModuleNotFoundError\u001b[39m                       Traceback (most recent call last)",
      "\u001b[36mCell\u001b[39m\u001b[36m \u001b[39m\u001b[32mIn[8]\u001b[39m\u001b[32m, line 1\u001b[39m\n\u001b[32m----> \u001b[39m\u001b[32m1\u001b[39m \u001b[38;5;28;01mfrom\u001b[39;00m\u001b[38;5;250m \u001b[39m\u001b[34;01mpgmpy\u001b[39;00m\u001b[34;01m.\u001b[39;00m\u001b[34;01mmodels\u001b[39;00m\u001b[38;5;250m \u001b[39m\u001b[38;5;28;01mimport\u001b[39;00m DiscreteBayesianNetwork\n\u001b[32m      2\u001b[39m \u001b[38;5;28;01mfrom\u001b[39;00m\u001b[38;5;250m \u001b[39m\u001b[34;01mpgmpy\u001b[39;00m\u001b[34;01m.\u001b[39;00m\u001b[34;01mfactors\u001b[39;00m\u001b[34;01m.\u001b[39;00m\u001b[34;01mdiscrete\u001b[39;00m\u001b[38;5;250m \u001b[39m\u001b[38;5;28;01mimport\u001b[39;00m TabularCPD\n\u001b[32m      3\u001b[39m \u001b[38;5;28;01mfrom\u001b[39;00m\u001b[38;5;250m \u001b[39m\u001b[34;01mpgmpy\u001b[39;00m\u001b[34;01m.\u001b[39;00m\u001b[34;01minference\u001b[39;00m\u001b[38;5;250m \u001b[39m\u001b[38;5;28;01mimport\u001b[39;00m VariableElimination\n",
      "\u001b[31mModuleNotFoundError\u001b[39m: No module named 'pgmpy'"
     ]
    }
   ],
   "source": [
    "from pgmpy.models import DiscreteBayesianNetwork\n",
    "from pgmpy.factors.discrete import TabularCPD\n",
    "from pgmpy.inference import VariableElimination\n",
    "import matplotlib.pyplot as plt\n",
    "import networkx as nx"
   ]
  },
  {
   "cell_type": "code",
   "execution_count": null,
   "id": "79621cf5",
   "metadata": {},
   "outputs": [],
   "source": [
    "model = DiscreteBayesianNetwork([\n",
    "    ('Die', 'Urn'),\n",
    "    ('Urn', 'Red')\n",
    "])\n",
    "\n",
    "cpd_die = TabularCPD(variable = 'Die', variable_card = 6, values = [[0.166]] * 6)\n",
    "cpd_urn = TabularCPD(variable = 'Urn',\n",
    "                    variable_card = 3, # 3 possible configurations of the urn after rolling the die\n",
    "                    values = [\n",
    "                        [0, 0, 0, 0, 0, 1], #if we get a 6 add red\n",
    "                        [1, 0, 0, 1, 0, 0], # add blue\n",
    "                        [0, 1, 1, 0, 1, 0]  # if we get a prime add black\n",
    "                    ],\n",
    "                    evidence = ['Die'],\n",
    "                    evidence_card = [6]\n",
    "                    ) \n",
    "cpd_red = TabularCPD(variable = 'Red',\n",
    "                    variable_card = 2, # yes/no\n",
    "                    values = [\n",
    "                        [0.6, 0.7, 0.7],\n",
    "                        [0.4, 0.3, 0.3]\n",
    "                    ],\n",
    "                    evidence = ['Urn'],\n",
    "                    evidence_card = [3]\n",
    "                    )\n",
    "\n",
    "\n"
   ]
  },
  {
   "cell_type": "code",
   "execution_count": null,
   "id": "3b067feb",
   "metadata": {},
   "outputs": [
    {
     "name": "stdout",
     "output_type": "stream",
     "text": [
      "[[[0.166], [0.166], [0.166], [0.166], [0.166], [0.166]]]\n"
     ]
    }
   ],
   "source": [
    "model.add_cpds(cpd_spam, cpd_offer, cpd_link, cpd_long_mail)\n",
    "\n",
    "model.check_model()"
   ]
  },
  {
   "cell_type": "code",
   "execution_count": null,
   "id": "ee347ae3",
   "metadata": {},
   "outputs": [],
   "source": [
    "pos = nx.circular_layout(model)\n",
    "nx.draw(model, pos=pos, with_labels=True, node_size=4000, font_weight='bold', node_color='skyblue')\n",
    "plt.show()"
   ]
  },
  {
   "cell_type": "code",
   "execution_count": null,
   "id": "70d2fb27",
   "metadata": {},
   "outputs": [],
   "source": [
    "model.local_independencies(['Die', 'Urn', 'Red'])"
   ]
  },
  {
   "cell_type": "code",
   "execution_count": null,
   "id": "8c3665c6",
   "metadata": {},
   "outputs": [],
   "source": [
    "from pgmpy.inference import VariableElimination\n",
    "\n",
    "infer = VariableElimination(model)\n",
    "for die in [0, 1, 2, 3, 4, 5]:\n",
    "    posterior_p = infer.query([\"Red\"], evidence={\"Die\" : die})\n",
    "    print(f\"Die = {die} => {posterior_p}\")"
   ]
  }
 ],
 "metadata": {
  "kernelspec": {
   "display_name": ".venv",
   "language": "python",
   "name": "python3"
  },
  "language_info": {
   "codemirror_mode": {
    "name": "ipython",
    "version": 3
   },
   "file_extension": ".py",
   "mimetype": "text/x-python",
   "name": "python",
   "nbconvert_exporter": "python",
   "pygments_lexer": "ipython3",
   "version": "3.12.3"
  }
 },
 "nbformat": 4,
 "nbformat_minor": 5
}
