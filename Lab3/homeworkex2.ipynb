{
 "cells": [
  {
   "cell_type": "code",
   "execution_count": 4,
   "id": "4bde96c7",
   "metadata": {},
   "outputs": [],
   "source": [
    "from pgmpy.models import DiscreteBayesianNetwork\n",
    "from pgmpy.factors.discrete import TabularCPD\n",
    "from pgmpy.inference import VariableElimination\n",
    "import matplotlib.pyplot as plt\n",
    "import networkx as nx"
   ]
  },
  {
   "cell_type": "code",
   "execution_count": 13,
   "id": "79621cf5",
   "metadata": {},
   "outputs": [],
   "source": [
    "model = DiscreteBayesianNetwork([\n",
    "    ('Roll', 'Die'),\n",
    "    ('Die', 'Urn'),\n",
    "    ('Urn', 'Red')\n",
    "])\n",
    "\n",
    "cpd_roll = TabularCPD(variable = 'Roll', variable_card = 1, values = [[1]])\n",
    "cpd_die = TabularCPD(variable = 'Die',\n",
    "                    variable_card = 6,\n",
    "                    values = [[0.166]] * 6,\n",
    "                    evidence = ['Roll'],\n",
    "                    evidence_card = [1]\n",
    "                    )\n",
    "cpd_urn = TabularCPD(variable = 'Urn',\n",
    "                    variable_card = 3, # 3 possible configurations of the urn after rolling the die\n",
    "                    values = [\n",
    "                        [0, 0, 0, 0, 0, 1], #if we get a 6 add red\n",
    "                        [1, 0, 0, 1, 0, 0], # add blue\n",
    "                        [0, 1, 1, 0, 1, 0]  # if we get a prime add black\n",
    "                    ],\n",
    "                    evidence = ['Die'],\n",
    "                    evidence_card = [6]\n",
    "                    ) \n",
    "cpd_red = TabularCPD(variable = 'Red',\n",
    "                    variable_card = 2, # yes/no\n",
    "                    values = [\n",
    "                        [0.6, 0.7, 0.7],\n",
    "                        [0.4, 0.3, 0.3]\n",
    "                    ],\n",
    "                    evidence = ['Urn'],\n",
    "                    evidence_card = [3]\n",
    "                    )\n",
    "\n",
    "\n"
   ]
  },
  {
   "cell_type": "code",
   "execution_count": 14,
   "id": "3b067feb",
   "metadata": {},
   "outputs": [
    {
     "data": {
      "text/plain": [
       "True"
      ]
     },
     "execution_count": 14,
     "metadata": {},
     "output_type": "execute_result"
    }
   ],
   "source": [
    "model.add_cpds(cpd_die, cpd_urn, cpd_red, cpd_roll)\n",
    "\n",
    "model.check_model()"
   ]
  },
  {
   "cell_type": "code",
   "execution_count": 15,
   "id": "ee347ae3",
   "metadata": {},
   "outputs": [
    {
     "data": {
      "image/png": "[encoded data removed]",
      "text/plain": [
       "<Figure size 640x480 with 1 Axes>"
      ]
     },
     "metadata": {},
     "output_type": "display_data"
    }
   ],
   "source": [
    "pos = nx.circular_layout(model)\n",
    "nx.draw(model, pos=pos, with_labels=True, node_size=4000, font_weight='bold', node_color='skyblue')\n",
    "plt.show()"
   ]
  },
  {
   "cell_type": "code",
   "execution_count": 16,
   "id": "70d2fb27",
   "metadata": {},
   "outputs": [
    {
     "data": {
      "text/plain": [
       "(Urn ⟂ Roll | Die)\n",
       "(Red ⟂ Roll, Die | Urn)"
      ]
     },
     "execution_count": 16,
     "metadata": {},
     "output_type": "execute_result"
    }
   ],
   "source": [
    "model.local_independencies(['Die', 'Urn', 'Red', 'Roll'])"
   ]
  },
  {
   "cell_type": "code",
   "execution_count": 19,
   "id": "8c3665c6",
   "metadata": {},
   "outputs": [
    {
     "name": "stdout",
     "output_type": "stream",
     "text": [
      "Red=+--------+------------+\n",
      "| Red    |   phi(Red) |\n",
      "+========+============+\n",
      "| Red(0) |     0.6833 |\n",
      "+--------+------------+\n",
      "| Red(1) |     0.3167 |\n",
      "+--------+------------+\n"
     ]
    }
   ],
   "source": [
    "from pgmpy.inference import VariableElimination\n",
    "\n",
    "infer = VariableElimination(model)\n",
    "posterior_p = infer.query([\"Red\"])\n",
    "print(f\"Red={posterior_p}\")"
   ]
  }
 ],
 "metadata": {
  "kernelspec": {
   "display_name": "PMP-2025",
   "language": "python",
   "name": "python3"
  },
  "language_info": {
   "codemirror_mode": {
    "name": "ipython",
    "version": 3
   },
   "file_extension": ".py",
   "mimetype": "text/x-python",
   "name": "python",
   "nbconvert_exporter": "python",
   "pygments_lexer": "ipython3",
   "version": "3.13.3"
  }
 },
 "nbformat": 4,
 "nbformat_minor": 5
}
