{
 "cells": [
  {
   "cell_type": "code",
   "execution_count": 69,
   "id": "69c086e7",
   "metadata": {},
   "outputs": [],
   "source": [
    "from pgmpy.models import DiscreteBayesianNetwork\n",
    "from pgmpy.factors.discrete import TabularCPD\n",
    "from pgmpy.inference import VariableElimination\n",
    "import matplotlib.pyplot as plt\n",
    "import networkx as nx\n",
    "import numpy as np\n",
    "import math"
   ]
  },
  {
   "cell_type": "code",
   "execution_count": 70,
   "id": "cd40a890",
   "metadata": {},
   "outputs": [
    {
     "data": {
      "text/plain": [
       "{'P0': 0.5758, 'P1': 0.4242}"
      ]
     },
     "execution_count": 70,
     "metadata": {},
     "output_type": "execute_result"
    }
   ],
   "source": [
    "#Ex3 a)\n",
    "\n",
    "def flip_coin(p = 1/2): #head probability\n",
    "    return np.random.choice([0, 1], p=[p, 1 - p])\n",
    "\n",
    "def first_round():\n",
    "    return np.random.choice([1, 2, 3, 4, 5, 6])\n",
    "\n",
    "def second_round(n, head_p):\n",
    "    m = [flip_coin(head_p) for _ in range(n)].count(0)\n",
    "    return m\n",
    "\n",
    "def game():\n",
    "    start_player = flip_coin()\n",
    "    n = first_round()\n",
    "    if start_player == 0:\n",
    "        m = second_round(2 * n, 1/2)\n",
    "    else:\n",
    "        m = second_round(2 * n, 4/7)\n",
    "    \n",
    "    if n >= m:\n",
    "        return start_player\n",
    "    \n",
    "    return start_player * -1 + 1\n",
    "\n",
    "def simulate(n = 10000):\n",
    "    results = [game() for i in range(n)]\n",
    "\n",
    "    return {\n",
    "        \"P0\" : results.count(0) / n,\n",
    "        \"P1\" : results.count(1) / n\n",
    "    }\n",
    "\n",
    "simulate()\n",
    "    "
   ]
  },
  {
   "cell_type": "code",
   "execution_count": null,
   "id": "08069587",
   "metadata": {},
   "outputs": [],
   "source": [
    "model = DiscreteBayesianNetwork([\n",
    "    ('Starts', 'Coin'),\n",
    "    ('Die', 'Coin'),\n",
    "    ('Starts', 'Winner'),\n",
    "    ('Coin', 'Winner'),\n",
    "    ('Die', 'Winner')\n",
    "])\n",
    "\n",
    "cpd_starts = TabularCPD(variable = 'Starts', variable_card = 2, values = [[0.5], [0.5]])\n",
    "cpd_die = TabularCPD(variable = 'Die',\n",
    "                    variable_card = 6,\n",
    "                    values = [[0.166]] * 6\n",
    "                    )\n",
    "\n",
    "\n",
    "\n",
    "coin_values = []\n",
    "for m in range(13):\n",
    "    probs = []\n",
    "    for start in [0, 1]:\n",
    "        for die_face in range(1, 7):\n",
    "            trials = 2 * die_face\n",
    "            p = 0.5 if start == 0 else 4/7\n",
    "            if m > trials:\n",
    "                prob = 0.0\n",
    "            else:\n",
    "                # probabilitatea ca sa obtinem m capete in trails experimente cu probabilitatea p\n",
    "                prob = math.comb(trials, m) * (p ** m) * ((1 - p) ** (trials - m))\n",
    "            probs.append(prob)\n",
    "    coin_values.append(probs)\n",
    "    \n",
    "cpd_coin = TabularCPD(variable='Coin',\n",
    "                      variable_card=13,\n",
    "                      values=coin_values,\n",
    "                      evidence=['Starts', 'Die'],\n",
    "                      evidence_card=[2, 6])\n",
    "w0 = []\n",
    "w1 = []\n",
    "for start in [0, 1]:\n",
    "    for die_face in range(1, 7):\n",
    "        for coin_m in range(13):\n",
    "            winner = start if die_face >= coin_m else 1 - start\n",
    "            if winner == 0:\n",
    "                w0.append(1.0); w1.append(0.0)\n",
    "            else:\n",
    "                w0.append(0.0); w1.append(1.0)\n",
    "\n",
    "cpd_winner = TabularCPD(\n",
    "    variable='Winner',\n",
    "    variable_card=2,\n",
    "    values=[w0, w1],\n",
    "    evidence=['Starts', 'Die', 'Coin'],\n",
    "    evidence_card=[2, 6, 13]\n",
    ")"
   ]
  },
  {
   "cell_type": "code",
   "execution_count": 86,
   "id": "cd36cfc8",
   "metadata": {},
   "outputs": [
    {
     "data": {
      "image/png": "[encoded data removed]",
      "text/plain": [
       "<Figure size 640x480 with 1 Axes>"
      ]
     },
     "metadata": {},
     "output_type": "display_data"
    },
    {
     "data": {
      "text/plain": [
       "(Die ⟂ Starts)\n",
       "(Starts ⟂ Die)"
      ]
     },
     "execution_count": 86,
     "metadata": {},
     "output_type": "execute_result"
    }
   ],
   "source": [
    "\n",
    "model.add_cpds(cpd_starts, cpd_die, cpd_coin, cpd_winner)\n",
    "model.check_model()\n",
    "\n",
    "pos = nx.circular_layout(model)\n",
    "nx.draw(model, pos=pos, with_labels=True, node_size=4000, font_weight='bold', node_color='skyblue')\n",
    "plt.show()\n",
    "\n",
    "model.local_independencies(['Die', 'Starts', 'Coin', 'Winner'])"
   ]
  },
  {
   "cell_type": "code",
   "execution_count": 90,
   "id": "24665b65",
   "metadata": {},
   "outputs": [
    {
     "name": "stdout",
     "output_type": "stream",
     "text": [
      "Winner=+-----------+---------------+\n",
      "| Winner    |   phi(Winner) |\n",
      "+===========+===============+\n",
      "| Winner(0) |        0.5733 |\n",
      "+-----------+---------------+\n",
      "| Winner(1) |        0.4267 |\n",
      "+-----------+---------------+\n"
     ]
    }
   ],
   "source": [
    "#Ex3 b)\n",
    "from pgmpy.inference import VariableElimination\n",
    "\n",
    "infer = VariableElimination(model)\n",
    "posterior_p = infer.query([\"Winner\"])\n",
    "print(f\"Winner={posterior_p}\")"
   ]
  },
  {
   "cell_type": "code",
   "execution_count": 96,
   "id": "6a93d4ea",
   "metadata": {},
   "outputs": [
    {
     "name": "stdout",
     "output_type": "stream",
     "text": [
      "Started given Coin = 1 => +-----------+---------------+\n",
      "| Starts    |   phi(Starts) |\n",
      "+===========+===============+\n",
      "| Starts(0) |        0.5471 |\n",
      "+-----------+---------------+\n",
      "| Starts(1) |        0.4529 |\n",
      "+-----------+---------------+\n"
     ]
    }
   ],
   "source": [
    "#Ex3 c)\n",
    "from pgmpy.inference import VariableElimination\n",
    "infer = VariableElimination(model)\n",
    "posterior_p = infer.query([\"Starts\"], evidence={\"Coin\": 1})\n",
    "print(f\"Started given Coin = 1 => {posterior_p}\")"
   ]
  }
 ],
 "metadata": {
  "kernelspec": {
   "display_name": "PMP-2025",
   "language": "python",
   "name": "python3"
  },
  "language_info": {
   "codemirror_mode": {
    "name": "ipython",
    "version": 3
   },
   "file_extension": ".py",
   "mimetype": "text/x-python",
   "name": "python",
   "nbconvert_exporter": "python",
   "pygments_lexer": "ipython3",
   "version": "3.13.3"
  }
 },
 "nbformat": 4,
 "nbformat_minor": 5
}
